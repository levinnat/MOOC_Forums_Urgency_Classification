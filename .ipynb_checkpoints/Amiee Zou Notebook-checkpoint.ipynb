{
 "cells": [
  {
   "cell_type": "code",
   "execution_count": null,
   "id": "41bc1bf8",
   "metadata": {},
   "outputs": [],
   "source": [
    "import pandas as pd\n",
    "import re\n",
    "import nltk\n",
    "from nltk.tokenize import word_tokenize as wt\n",
    "from sklearn.feature_extraction.text import CountVectorizer\n",
    "from sklearn.model_selection import train_test_split\n",
    "from sklearn.naive_bayes import GaussianNB\n",
    "from sklearn.metrics import confusion_matrix, classification_report, accuracy_score\n",
    "\n",
    "def remove_non_alpha(string):\n",
    "    if(not string is None):\n",
    "        string = re.sub(r'[^a-zA-Z0-9]',' ',string)\n",
    "        string = string.lower()\n",
    "    return string\n",
    "\n",
    "df = pd.read_csv('../Data/Stanford.csv')\n",
    "df.columns\n",
    "#Nathan's Comment\n",
    "\n",
    "df = df[df.columns].astype(str)\n",
    "df['Text'] = df['Text'].apply(remove_non_alpha)\n",
    "X = df.copy()\n",
    "y = X.pop('Urgency(1-7)')\n",
    "\n",
    "data = []\n",
    "for i in range(X.shape[0]):\n",
    "    text = X.iloc[i,0]\n",
    "    data.append(text)\n",
    "\n",
    "matrix = CountVectorizer(max_features=10000)\n",
    "X = matrix.fit_transform(data).toarray()\n",
    "X_train, X_test, y_train, y_test = train_test_split(X, y)\n",
    "\n",
    "\n",
    "classifier = GaussianNB()\n",
    "classifier.fit(X_train,y_train)\n",
    "\n",
    "y_pred = classifier.predict(X_test)\n",
    "\n",
    "cm = confusion_matrix(y_test, y_pred)\n",
    "cr = classification_report(y_test, y_pred)\n",
    "\n",
    "accuracy = accuracy_score(y_test, y_pred)\n",
    "\n",
    "print(cr)\n",
    "\n"
   ]
  }
 ],
 "metadata": {
  "kernelspec": {
   "display_name": "Python 3 (ipykernel)",
   "language": "python",
   "name": "python3"
  },
  "language_info": {
   "codemirror_mode": {
    "name": "ipython",
    "version": 3
   },
   "file_extension": ".py",
   "mimetype": "text/x-python",
   "name": "python",
   "nbconvert_exporter": "python",
   "pygments_lexer": "ipython3",
   "version": "3.9.7"
  }
 },
 "nbformat": 4,
 "nbformat_minor": 5
}
