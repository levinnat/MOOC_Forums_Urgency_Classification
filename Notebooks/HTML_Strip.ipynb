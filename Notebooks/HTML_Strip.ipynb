{
 "cells": [
  {
   "cell_type": "code",
   "execution_count": 1,
   "id": "271d9f11",
   "metadata": {},
   "outputs": [],
   "source": [
    "import pandas as pd\n",
    "import os, sys\n",
    "import glob\n",
    "import re"
   ]
  },
  {
   "cell_type": "code",
   "execution_count": 3,
   "id": "51d15c16",
   "metadata": {},
   "outputs": [
    {
     "name": "stdout",
     "output_type": "stream",
     "text": [
      "200_sample_Prob_02.csv\n",
      "200_sample_slavesouth_01.csv\n",
      "200_sample_slavesouth_03.csv\n",
      "200_sample_Vaccines_02.csv\n",
      "200_sample_Vaccines_03.csv\n",
      "acc2_redact.csv\n",
      "Accounting_01_redact.csv\n",
      "calc2_redact.csv\n",
      "calc4_redact.csv\n",
      "des2_redact.csv\n",
      "des3.csv\n",
      "gam02.csv\n",
      "gam03.csv\n",
      "glob01.csv\n",
      "glob02.csv\n",
      "ModernPoetry_01_redact.csv\n",
      "ModernPoetry_02_redact.csv\n",
      "Mythology_02_redact.csv\n",
      "Mythology_03_redact.csv\n",
      "Prob_01_redact.csv\n"
     ]
    }
   ],
   "source": [
    "path = \"*.csv\"\n",
    "for fname in glob.glob(path):\n",
    "    df = pd.read_csv(fname)\n",
    "    print(fname)"
   ]
  },
  {
   "cell_type": "code",
   "execution_count": 7,
   "id": "d12a8e0e",
   "metadata": {},
   "outputs": [],
   "source": [
    "TAG_RE = re.compile(r'<[^>]+>')\n",
    "\n",
    "def remove_tags(text):\n",
    "    return TAG_RE.sub('', text)"
   ]
  },
  {
   "cell_type": "code",
   "execution_count": 12,
   "id": "6361d195",
   "metadata": {},
   "outputs": [],
   "source": [
    "path = \"*.csv\"\n",
    "for fname in glob.glob(path):\n",
    "    df = pd.read_csv(fname)\n",
    "    df['post_text'] = df['post_text'].apply(remove_tags)\n",
    "    df.to_csv(\"HTML_STRIPPED\"+fname, index=False)"
   ]
  },
  {
   "cell_type": "code",
   "execution_count": 15,
   "id": "ffbe2c83",
   "metadata": {},
   "outputs": [],
   "source": [
    "path = \"*.csv\"\n",
    "for fname in glob.glob(path):\n",
    "    df = pd.read_csv(fname)\n",
    "    fname = fname[13:]\n",
    "    df = df[['id','post_time','post_text']]\n",
    "    df['Urgency_1_7'] = ''\n",
    "    df.to_csv('Ready_To_Code/'+fname, index=False)"
   ]
  },
  {
   "cell_type": "code",
   "execution_count": null,
   "id": "1a5f7ce2",
   "metadata": {},
   "outputs": [],
   "source": []
  }
 ],
 "metadata": {
  "kernelspec": {
   "display_name": "Python 3 (ipykernel)",
   "language": "python",
   "name": "python3"
  },
  "language_info": {
   "codemirror_mode": {
    "name": "ipython",
    "version": 3
   },
   "file_extension": ".py",
   "mimetype": "text/x-python",
   "name": "python",
   "nbconvert_exporter": "python",
   "pygments_lexer": "ipython3",
   "version": "3.7.11"
  }
 },
 "nbformat": 4,
 "nbformat_minor": 5
}
