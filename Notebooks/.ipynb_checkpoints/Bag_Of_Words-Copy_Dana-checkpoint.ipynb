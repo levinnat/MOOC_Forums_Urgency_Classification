{
 "cells": [
  {
   "cell_type": "code",
   "execution_count": 1,
   "id": "c0694907-ce19-48bc-8004-e7fa64588839",
   "metadata": {},
   "outputs": [],
   "source": [
    "import pandas as pd\n",
    "import re\n",
    "import nltk\n",
    "from nltk.tokenize import word_tokenize as wt\n",
    "from sklearn.feature_extraction.text import CountVectorizer\n",
    "from sklearn.model_selection import train_test_split\n",
    "from sklearn.naive_bayes import GaussianNB\n",
    "from sklearn.metrics import confusion_matrix, classification_report, accuracy_score"
   ]
  },
  {
   "cell_type": "code",
   "execution_count": 2,
   "id": "bac16a5b-5582-450d-b2bf-1ec3caaf50b0",
   "metadata": {},
   "outputs": [],
   "source": [
    "def remove_non_alpha(string):\n",
    "    if(not string is None):\n",
    "        string = re.sub(r'[^a-zA-Z0-9]',' ',string)\n",
    "        string = string.lower()\n",
    "    return string\n",
    "#define a fuction that removes non-alphanumerical characters"
   ]
  },
  {
   "cell_type": "code",
   "execution_count": 3,
   "id": "d0a4bde9-0844-4085-86e3-d841c9afa1db",
   "metadata": {},
   "outputs": [
    {
     "data": {
      "text/plain": [
       "Index(['Text', 'Urgency Practice', 'Urgency(1-7)', 'CourseType'], dtype='object')"
      ]
     },
     "execution_count": 3,
     "metadata": {},
     "output_type": "execute_result"
    }
   ],
   "source": [
    "df = pd.read_csv('../Data/Stanford.csv')\n",
    "df.columns\n",
    "#read the colums names"
   ]
  },
  {
   "cell_type": "code",
   "execution_count": 4,
   "id": "b87f3071-1c31-4dfb-996c-a82b38b227f2",
   "metadata": {},
   "outputs": [],
   "source": [
    "df = df[df.columns].astype(str) \n",
    "#convert data type to string\n",
    "df['Text'] = df['Text'].apply(remove_non_alpha) \n",
    "#remove non-alpha-numeric from Text column\n",
    "X = df.copy() \n",
    "#make a copy of the dataset\n",
    "y = X.pop('Urgency(1-7)')\n",
    "#remove Urgency(1-7) column from the dataset?"
   ]
  },
  {
   "cell_type": "code",
   "execution_count": 5,
   "id": "a87047db-b81c-4c03-8308-fd386dc215c9",
   "metadata": {},
   "outputs": [],
   "source": [
    "data = []\n",
    "for i in range(X.shape[0]):\n",
    "    text = X.iloc[i,0]\n",
    "    data.append(text)\n",
    "#get texts from the dataset？"
   ]
  },
  {
   "cell_type": "code",
   "execution_count": 6,
   "id": "d7d537ee-7c2e-45a4-888d-4b661a574cc5",
   "metadata": {},
   "outputs": [],
   "source": [
    "matrix = CountVectorizer(max_features=10000)\n",
    "X = matrix.fit_transform(data).toarray() #tokenize and build vocab\n",
    "X_train, X_test, y_train, y_test = train_test_split(X, y) \n",
    "#Split dataset into random train and test subsets"
   ]
  },
  {
   "cell_type": "code",
   "execution_count": 7,
   "id": "0d5df4a8-12b4-417e-9a5f-d92ff6b3baa1",
   "metadata": {},
   "outputs": [
    {
     "data": {
      "text/plain": [
       "GaussianNB()"
      ]
     },
     "execution_count": 7,
     "metadata": {},
     "output_type": "execute_result"
    }
   ],
   "source": [
    "classifier = GaussianNB()\n",
    "classifier.fit(X_train,y_train)\n",
    "#fit the GaussianNB model "
   ]
  },
  {
   "cell_type": "code",
   "execution_count": 8,
   "id": "fd39808f-95ae-4d7f-acd1-b1cc8b41aceb",
   "metadata": {},
   "outputs": [],
   "source": [
    "y_pred = classifier.predict(X_test) \n",
    "#use model to predict\n",
    "\n",
    "cm = confusion_matrix(y_test, y_pred) \n",
    "#evaluate the accuracy of the classification\n",
    "\n",
    "cr = classification_report(y_test, y_pred)\n",
    "#performance evaluation metric\n",
    "\n",
    "accuracy = accuracy_score(y_test, y_pred)\n",
    "#accuracy classification score"
   ]
  },
  {
   "cell_type": "code",
   "execution_count": 9,
   "id": "8f728f82-8edc-49a4-ad2c-0284df942452",
   "metadata": {},
   "outputs": [
    {
     "name": "stdout",
     "output_type": "stream",
     "text": [
      "              precision    recall  f1-score   support\n",
      "\n",
      "         1.0       0.31      0.34      0.33       891\n",
      "         1.5       0.22      0.16      0.19       984\n",
      "         2.0       0.36      0.20      0.26      1663\n",
      "         2.5       0.30      0.18      0.23      1115\n",
      "         3.0       0.22      0.22      0.22       832\n",
      "         3.5       0.07      0.09      0.08       351\n",
      "         4.0       0.04      0.07      0.05       201\n",
      "         4.5       0.05      0.14      0.07       214\n",
      "         5.0       0.25      0.17      0.20       543\n",
      "         5.5       0.21      0.17      0.19       485\n",
      "         6.0       0.02      0.12      0.03       105\n",
      "         6.5       0.00      0.00      0.00        13\n",
      "         7.0       0.00      0.00      0.00         4\n",
      "\n",
      "    accuracy                           0.19      7401\n",
      "   macro avg       0.16      0.14      0.14      7401\n",
      "weighted avg       0.26      0.19      0.22      7401\n",
      "\n"
     ]
    }
   ],
   "source": [
    "print(cr)"
   ]
  },
  {
   "cell_type": "code",
   "execution_count": null,
   "id": "60c5594e-33b9-4d65-a944-831528a00d97",
   "metadata": {},
   "outputs": [],
   "source": []
  }
 ],
 "metadata": {
  "kernelspec": {
   "display_name": "Python 3 (ipykernel)",
   "language": "python",
   "name": "python3"
  },
  "language_info": {
   "codemirror_mode": {
    "name": "ipython",
    "version": 3
   },
   "file_extension": ".py",
   "mimetype": "text/x-python",
   "name": "python",
   "nbconvert_exporter": "python",
   "pygments_lexer": "ipython3",
   "version": "3.9.7"
  }
 },
 "nbformat": 4,
 "nbformat_minor": 5
}
