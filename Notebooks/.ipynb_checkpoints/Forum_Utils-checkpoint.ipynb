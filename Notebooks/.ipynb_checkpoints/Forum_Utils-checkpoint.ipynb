{
 "cells": [
  {
   "cell_type": "code",
   "execution_count": 3,
   "id": "febccdad",
   "metadata": {},
   "outputs": [],
   "source": [
    "import pandas as pd\n",
    "import os, sys\n",
    "import glob\n",
    "import re\n",
    "import numpy as np\n",
    "from sklearn.metrics import cohen_kappa_score"
   ]
  },
  {
   "cell_type": "code",
   "execution_count": 20,
   "id": "525d86bd",
   "metadata": {},
   "outputs": [
    {
     "data": {
      "text/html": [
       "<div>\n",
       "<style scoped>\n",
       "    .dataframe tbody tr th:only-of-type {\n",
       "        vertical-align: middle;\n",
       "    }\n",
       "\n",
       "    .dataframe tbody tr th {\n",
       "        vertical-align: top;\n",
       "    }\n",
       "\n",
       "    .dataframe thead th {\n",
       "        text-align: right;\n",
       "    }\n",
       "</style>\n",
       "<table border=\"1\" class=\"dataframe\">\n",
       "  <thead>\n",
       "    <tr style=\"text-align: right;\">\n",
       "      <th></th>\n",
       "      <th>Text</th>\n",
       "      <th>Urgency Practice</th>\n",
       "      <th>Urgency(1-7)</th>\n",
       "      <th>CourseType</th>\n",
       "    </tr>\n",
       "  </thead>\n",
       "  <tbody>\n",
       "    <tr>\n",
       "      <th>0</th>\n",
       "      <td>Interesting! How often we say those things to ...</td>\n",
       "      <td>NaN</td>\n",
       "      <td>1.5</td>\n",
       "      <td>Education</td>\n",
       "    </tr>\n",
       "    <tr>\n",
       "      <th>1</th>\n",
       "      <td>What is \\Algebra as a Math Game\\\" or are you j...</td>\n",
       "      <td>NaN</td>\n",
       "      <td>3.5</td>\n",
       "      <td>Education</td>\n",
       "    </tr>\n",
       "    <tr>\n",
       "      <th>2</th>\n",
       "      <td>I like the idea of my kids principal who says ...</td>\n",
       "      <td>NaN</td>\n",
       "      <td>2.5</td>\n",
       "      <td>Education</td>\n",
       "    </tr>\n",
       "    <tr>\n",
       "      <th>3</th>\n",
       "      <td>From their responses, it seems the students re...</td>\n",
       "      <td>NaN</td>\n",
       "      <td>2.5</td>\n",
       "      <td>Education</td>\n",
       "    </tr>\n",
       "    <tr>\n",
       "      <th>4</th>\n",
       "      <td>The boys loved math, because \\there is freedom...</td>\n",
       "      <td>NaN</td>\n",
       "      <td>3.0</td>\n",
       "      <td>Education</td>\n",
       "    </tr>\n",
       "  </tbody>\n",
       "</table>\n",
       "</div>"
      ],
      "text/plain": [
       "                                                Text  Urgency Practice  \\\n",
       "0  Interesting! How often we say those things to ...               NaN   \n",
       "1  What is \\Algebra as a Math Game\\\" or are you j...               NaN   \n",
       "2  I like the idea of my kids principal who says ...               NaN   \n",
       "3  From their responses, it seems the students re...               NaN   \n",
       "4  The boys loved math, because \\there is freedom...               NaN   \n",
       "\n",
       "   Urgency(1-7) CourseType  \n",
       "0           1.5  Education  \n",
       "1           3.5  Education  \n",
       "2           2.5  Education  \n",
       "3           2.5  Education  \n",
       "4           3.0  Education  "
      ]
     },
     "execution_count": 20,
     "metadata": {},
     "output_type": "execute_result"
    }
   ],
   "source": [
    "df = pd.read_csv(\"./Stanford_Training/Stanford.csv\")\n",
    "df.head()"
   ]
  },
  {
   "cell_type": "code",
   "execution_count": 21,
   "id": "48c0d725",
   "metadata": {},
   "outputs": [
    {
     "data": {
      "text/html": [
       "<div>\n",
       "<style scoped>\n",
       "    .dataframe tbody tr th:only-of-type {\n",
       "        vertical-align: middle;\n",
       "    }\n",
       "\n",
       "    .dataframe tbody tr th {\n",
       "        vertical-align: top;\n",
       "    }\n",
       "\n",
       "    .dataframe thead th {\n",
       "        text-align: right;\n",
       "    }\n",
       "</style>\n",
       "<table border=\"1\" class=\"dataframe\">\n",
       "  <thead>\n",
       "    <tr style=\"text-align: right;\">\n",
       "      <th></th>\n",
       "      <th>Text</th>\n",
       "      <th>Urgency Practice</th>\n",
       "      <th>Urgency(1-7)</th>\n",
       "      <th>CourseType</th>\n",
       "    </tr>\n",
       "  </thead>\n",
       "  <tbody>\n",
       "    <tr>\n",
       "      <th>4</th>\n",
       "      <td>The boys loved math, because \\there is freedom...</td>\n",
       "      <td>NaN</td>\n",
       "      <td>3.0</td>\n",
       "      <td>Education</td>\n",
       "    </tr>\n",
       "    <tr>\n",
       "      <th>5</th>\n",
       "      <td>the pervasive idea that to be good at Math, is...</td>\n",
       "      <td>NaN</td>\n",
       "      <td>3.0</td>\n",
       "      <td>Education</td>\n",
       "    </tr>\n",
       "    <tr>\n",
       "      <th>6</th>\n",
       "      <td>The Peer Review module is not fully set up yet...</td>\n",
       "      <td>NaN</td>\n",
       "      <td>3.0</td>\n",
       "      <td>Education</td>\n",
       "    </tr>\n",
       "    <tr>\n",
       "      <th>7</th>\n",
       "      <td>I would like to start the year off by sharing ...</td>\n",
       "      <td>NaN</td>\n",
       "      <td>3.0</td>\n",
       "      <td>Education</td>\n",
       "    </tr>\n",
       "    <tr>\n",
       "      <th>8</th>\n",
       "      <td>Great ideas. Asking students to illustrate how...</td>\n",
       "      <td>NaN</td>\n",
       "      <td>3.0</td>\n",
       "      <td>Education</td>\n",
       "    </tr>\n",
       "  </tbody>\n",
       "</table>\n",
       "</div>"
      ],
      "text/plain": [
       "                                                Text  Urgency Practice  \\\n",
       "4  The boys loved math, because \\there is freedom...               NaN   \n",
       "5  the pervasive idea that to be good at Math, is...               NaN   \n",
       "6  The Peer Review module is not fully set up yet...               NaN   \n",
       "7  I would like to start the year off by sharing ...               NaN   \n",
       "8  Great ideas. Asking students to illustrate how...               NaN   \n",
       "\n",
       "   Urgency(1-7) CourseType  \n",
       "4           3.0  Education  \n",
       "5           3.0  Education  \n",
       "6           3.0  Education  \n",
       "7           3.0  Education  \n",
       "8           3.0  Education  "
      ]
     },
     "execution_count": 21,
     "metadata": {},
     "output_type": "execute_result"
    }
   ],
   "source": [
    "#drop rows with 0.5 ratings\n",
    "df = df[(df['Urgency(1-7)'] * 10)%10 == 0]\n",
    "df.head()"
   ]
  },
  {
   "cell_type": "code",
   "execution_count": 22,
   "id": "f4642293",
   "metadata": {},
   "outputs": [],
   "source": [
    "i=0\n",
    "while (i<4):\n",
    "    df_samp = df.sample(n=500)\n",
    "    df = df.drop(df_samp.index)\n",
    "    df_samp.to_csv(\"./Stanford_Training/\"+str(i)+\"_500.csv\",index=False)\n",
    "    i=i+1"
   ]
  },
  {
   "cell_type": "code",
   "execution_count": 23,
   "id": "b231d4da",
   "metadata": {},
   "outputs": [],
   "source": [
    "i=0\n",
    "while (i<20):\n",
    "    df_samp = df.sample(n=20)\n",
    "    df = df.drop(df_samp.index)\n",
    "    df_samp.to_csv(\"./Stanford_Training/\"+str(i)+\"_20.csv\",index=False)\n",
    "    i=i+1"
   ]
  },
  {
   "cell_type": "code",
   "execution_count": 24,
   "id": "ea4f63f3",
   "metadata": {},
   "outputs": [],
   "source": [
    "i=0\n",
    "while (i<10):\n",
    "    df_samp = df.sample(n=50)\n",
    "    df = df.drop(df_samp.index)\n",
    "    df_samp.to_csv(\"./Stanford_Training/\"+str(i)+\"_50.csv\",index=False)\n",
    "    i=i+1"
   ]
  },
  {
   "cell_type": "code",
   "execution_count": 25,
   "id": "6fb23747",
   "metadata": {},
   "outputs": [],
   "source": [
    "path = \"./Stanford_Training/*_20.csv\"\n",
    "for fname in glob.glob(path):\n",
    "    df = pd.read_csv(fname)\n",
    "    df.drop('Urgency(1-7)', axis=1, inplace=True)\n",
    "    df.to_csv(fname[:-4]+\"_test.csv\", index=False)"
   ]
  },
  {
   "cell_type": "code",
   "execution_count": 26,
   "id": "c28eb49f",
   "metadata": {},
   "outputs": [],
   "source": [
    "path = \"./Stanford_Training/*_50.csv\"\n",
    "for fname in glob.glob(path):\n",
    "    df = pd.read_csv(fname)\n",
    "    df.drop('Urgency(1-7)', axis=1, inplace=True)\n",
    "    df.to_csv(fname[:-4]+\"_test.csv\", index=False)"
   ]
  },
  {
   "cell_type": "code",
   "execution_count": 7,
   "id": "cc98691e",
   "metadata": {},
   "outputs": [
    {
     "name": "stdout",
     "output_type": "stream",
     "text": [
      "Continuous Kappa  0.6126033057851239\n",
      "Binary Classification Kappa:  0.5454545454545454\n"
     ]
    }
   ],
   "source": [
    "#Dana\n",
    "df_ans = pd.read_csv(\"./Stanford_Training/1_50.csv\")\n",
    "df_test = pd.read_csv(\"./Stanford_Training/1_50_test.csv\")\n",
    "X = df_ans['Urgency(1-7)'].values\n",
    "Y = df_test['Urgency Practice'].values\n",
    "X = np.round(X)\n",
    "X = X.astype(np.int64)\n",
    "kappa = cohen_kappa_score(X,Y,weights='linear')\n",
    "print(\"Continuous Kappa \",kappa)\n",
    "\n",
    "df_ans[\"bin_rating\"] = pd.cut(df_ans['Urgency(1-7)'],[0,4,8],labels=[0,1])\n",
    "df_test[\"bin_rating\"] = pd.cut(df_test['Urgency Practice'],[0,4,8],labels=[0,1])\n",
    "X_bin = df_ans['bin_rating'].values\n",
    "Y_bin = df_test['bin_rating'].values\n",
    "kappa = cohen_kappa_score(X_bin,Y_bin)\n",
    "print(\"Binary Classification Kappa: \",kappa)"
   ]
  },
  {
   "cell_type": "code",
   "execution_count": 8,
   "id": "59c5fe4b",
   "metadata": {},
   "outputs": [
    {
     "name": "stdout",
     "output_type": "stream",
     "text": [
      "Continuous Kappa  0.500243783520234\n",
      "Binary Classification Kappa:  0.6458923512747875\n"
     ]
    }
   ],
   "source": [
    "#Amiee\n",
    "df_ans = pd.read_csv(\"./Stanford_Training/0_50.csv\")\n",
    "df_test = pd.read_csv(\"./Stanford_Training/0_50_test.csv\")\n",
    "X = df_ans['Urgency(1-7)'].values\n",
    "Y = df_test['Urgency Practice'].values\n",
    "X = np.round(X)\n",
    "X = X.astype(np.int64)\n",
    "kappa = cohen_kappa_score(X,Y,weights='linear')\n",
    "print(\"Continuous Kappa \",kappa)\n",
    "\n",
    "df_ans[\"bin_rating\"] = pd.cut(df_ans['Urgency(1-7)'],[0,4,8],labels=[0,1])\n",
    "df_test[\"bin_rating\"] = pd.cut(df_test['Urgency Practice'],[0,4,8],labels=[0,1])\n",
    "X_bin = df_ans['bin_rating'].values\n",
    "Y_bin = df_test['bin_rating'].values\n",
    "kappa = cohen_kappa_score(X_bin,Y_bin)\n",
    "print(\"Binary Classification Kappa: \",kappa)"
   ]
  },
  {
   "cell_type": "code",
   "execution_count": null,
   "id": "702a6984-0dfc-430c-9361-e372c875d921",
   "metadata": {},
   "outputs": [],
   "source": [
    "def interrater_check (df_ans, df_test):\n",
    "    X = df_ans['Urgency Practice'].values\n",
    "    Y = df_test['Urgency Practice'].values\n",
    "    X = np.round(X)\n",
    "    X = X.astype(np.int64)\n",
    "    kappa = cohen_kappa_score(X,Y, weights=\"linear\")\n",
    "    print(\"Continuous Kappa \",kappa)\n",
    "    df_ans[\"bin_rating\"] = pd.cut(df_ans['Urgency Practice'],[0,4,8],labels=[0,1])\n",
    "    df_test[\"bin_rating\"] = pd.cut(df_test['Urgency Practice'],[0,4,8],labels=[0,1])\n",
    "    X_bin = df_ans['bin_rating'].values\n",
    "    Y_bin = df_test['bin_rating'].values\n",
    "    kappa = cohen_kappa_score(X_bin,Y_bin)\n",
    "    print(\"Binary Kappa: \", kappa)"
   ]
  },
  {
   "cell_type": "code",
   "execution_count": 21,
   "id": "50ada01f",
   "metadata": {},
   "outputs": [
    {
     "name": "stdout",
     "output_type": "stream",
     "text": [
      "Nathan Versus Test\n",
      "Continuous Kappa  0.5748299319727892\n",
      "Binary Kappa:  0.8106060606060606\n",
      "\n",
      "Amiee Versus Test\n",
      "Continuous Kappa  0.4903160040774719\n",
      "Binary Kappa:  0.6688741721854304\n",
      "\n",
      "Dana Versus Test\n",
      "Continuous Kappa  0.5645645645645645\n",
      "Binary Kappa:  0.8979591836734694\n",
      "\n",
      "N vs D\n",
      "Continuous Kappa  0.616695059625213\n",
      "Binary Kappa:  0.8979591836734694\n",
      "\n",
      "A vs D\n",
      "Continuous Kappa  0.4770408163265305\n",
      "Binary Kappa:  0.736842105263158\n",
      "\n",
      "A Versus N\n",
      "Continuous Kappa  0.4825036964021685\n",
      "Binary Kappa:  0.6688741721854304\n"
     ]
    }
   ],
   "source": [
    "#Nathan\n",
    "df_ans = pd.read_csv(\"./Stanford_Training/4_50.csv\")\n",
    "df_test = pd.read_csv(\"./Stanford_Training/4_50_test_NAL.csv\")\n",
    "print(\"Nathan Versus Test\")\n",
    "interrater_check(df_ans, df_test)\n",
    "\n",
    "df_test = pd.read_csv(\"./Stanford_Training/4_50_test_YZ.csv\")\n",
    "print(\"\\nAmiee Versus Test\")\n",
    "interrater_check(df_ans, df_test)\n",
    "\n",
    "df_test = pd.read_csv(\"./Stanford_Training/4_50_test_XY.csv\")\n",
    "print(\"\\nDana Versus Test\")\n",
    "interrater_check(df_ans, df_test)\n",
    "\n",
    "df_ans = pd.read_csv(\"./Stanford_Training/4_50_test_NAL.csv\")\n",
    "print(\"\\nN vs D\")\n",
    "interrater_check(df_ans, df_test)\n",
    "\n",
    "df_ans = pd.read_csv(\"./Stanford_Training/4_50_test_YZ.csv\")\n",
    "print(\"\\nA vs D\")\n",
    "interrater_check(df_ans, df_test)\n",
    "\n",
    "df_test = pd.read_csv(\"./Stanford_Training/4_50_test_NAL.csv\")\n",
    "print(\"\\nA Versus N\")\n",
    "interrater_check(df_ans, df_test)"
   ]
  }
 ],
 "metadata": {
  "kernelspec": {
   "display_name": "Python 3 (ipykernel)",
   "language": "python",
   "name": "python3"
  },
  "language_info": {
   "codemirror_mode": {
    "name": "ipython",
    "version": 3
   },
   "file_extension": ".py",
   "mimetype": "text/x-python",
   "name": "python",
   "nbconvert_exporter": "python",
   "pygments_lexer": "ipython3",
   "version": "3.7.11"
  }
 },
 "nbformat": 4,
 "nbformat_minor": 5
}
